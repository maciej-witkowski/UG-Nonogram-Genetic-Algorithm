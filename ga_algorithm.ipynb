{
 "cells": [
  {
   "cell_type": "code",
   "execution_count": 1,
   "metadata": {},
   "outputs": [],
   "source": [
    "from deap import base\n",
    "from deap import creator\n",
    "from deap import tools\n",
    "from deap import algorithms\n",
    "\n",
    "from ipynb.fs.full.ga_nonogram import *\n",
    "\n",
    "import random\n",
    "import numpy as np"
   ]
  },
  {
   "cell_type": "code",
   "execution_count": 2,
   "metadata": {},
   "outputs": [],
   "source": [
    "def createIndividuals(nonogram, creator, n):\n",
    "    rows, cols, row_blocks, col_blocks = getInfo(nonogram)\n",
    "    individuals = []\n",
    "    \n",
    "    for i in range(n):\n",
    "        geno = defineGenotype(cols)\n",
    "        decoded = decodeGenotype(rows, geno)\n",
    "        individual = getSolution(cols, decoded)\n",
    "        individual = creator(individual)\n",
    "        individuals.append(individual)\n",
    "        \n",
    "    return individuals"
   ]
  },
  {
   "cell_type": "code",
   "execution_count": 3,
   "metadata": {},
   "outputs": [],
   "source": [
    "def evalOneMax(individual, nonogram):\n",
    "    rows, cols, row_blocks, col_blocks = getInfo(nonogram)\n",
    "    nonogram = getNonogramFromIndividual(rows, col_blocks, individual)\n",
    "    solution_rows = getRowsFromNonogram(nonogram)\n",
    "\n",
    "    result = sum(x != y for x, y in zip(rows, solution_rows))\n",
    "\n",
    "    return (result,)"
   ]
  },
  {
   "cell_type": "code",
   "execution_count": 4,
   "metadata": {},
   "outputs": [],
   "source": [
    "def cxTwoPoints(ind1, ind2):\n",
    "\n",
    "    size = min(len(ind1), len(ind2))\n",
    "    \n",
    "    cxpoint1 = random.randint(1, size)\n",
    "    cxpoint2 = random.randint(1, size - 1)\n",
    "    \n",
    "    if cxpoint2 >= cxpoint1:\n",
    "        cxpoint2 += 1\n",
    "    else:\n",
    "        cxpoint1, cxpoint2 = cxpoint2, cxpoint1\n",
    "\n",
    "    ind1[cxpoint1:cxpoint2], ind2[cxpoint1:cxpoint2] = ind2[cxpoint1:cxpoint2], ind1[cxpoint1:cxpoint2]\n",
    "\n",
    "    return ind1, ind2"
   ]
  },
  {
   "cell_type": "code",
   "execution_count": 5,
   "metadata": {},
   "outputs": [],
   "source": [
    "def mutShuffleIndexes(individual, indpb, nonogram):\n",
    "    rows, cols, row_blocks, col_blocks = getInfo(nonogram)\n",
    "    size = len(individual)\n",
    "\n",
    "    for i in range(size):\n",
    "        if random.random() < indpb:\n",
    "            \n",
    "            swap_indx = random.randint(0, size - 1)\n",
    "            result1 = sum(x + y if idx == 0 else x + y + 1 for idx, (x, y) in enumerate(zip(individual[swap_indx], cols[i])))\n",
    "            result2 = sum(x + y if idx == 0 else x + y + 1 for idx, (x, y) in enumerate(zip(individual[i], cols[swap_indx])))\n",
    "                        \n",
    "            if len(individual[swap_indx]) == len(individual[i]) and result1 <= 9 and result2 <= 9:\n",
    "                individual[i], individual[swap_indx] = individual[swap_indx], individual[i]\n",
    "                \n",
    "            else:\n",
    "                individual[i].reverse()\n",
    "                            \n",
    "    return individual,"
   ]
  },
  {
   "cell_type": "code",
   "execution_count": 6,
   "metadata": {},
   "outputs": [],
   "source": [
    "def eaSimpleWithElitism(population, toolbox, cxpb, mutpb, ngen, stats=None, halloffame=None, verbose=__debug__):\n",
    "    logbook = tools.Logbook()\n",
    "    logbook.header = ['gen', 'nevals'] + (stats.fields if stats else [])\n",
    "\n",
    "    invalid_ind = [ind for ind in population if not ind.fitness.valid]\n",
    "    fitnesses = toolbox.map(toolbox.evaluate, invalid_ind)\n",
    "    for ind, fit in zip(invalid_ind, fitnesses):\n",
    "        ind.fitness.values = fit\n",
    "\n",
    "    if halloffame is None:\n",
    "        raise ValueError(\"halloffame parameter must not be empty!\")\n",
    "\n",
    "    halloffame.update(population)\n",
    "    hof_size = len(halloffame.items) if halloffame.items else 0\n",
    "\n",
    "    record = stats.compile(population) if stats else {}\n",
    "    logbook.record(gen=0, nevals=len(invalid_ind), **record)\n",
    "    print('\\n')\n",
    "    if verbose:\n",
    "        print(logbook.stream)\n",
    "\n",
    "    for gen in range(1, ngen + 1):\n",
    "        offspring = toolbox.select(population, len(population) - hof_size)\n",
    "        offspring = algorithms.varAnd(offspring, toolbox, cxpb, mutpb)\n",
    "        invalid_ind = [ind for ind in offspring if not ind.fitness.valid]\n",
    "        fitnesses = toolbox.map(toolbox.evaluate, invalid_ind)\n",
    "        \n",
    "        for ind, fit in zip(invalid_ind, fitnesses):\n",
    "            ind.fitness.values = fit\n",
    "\n",
    "        offspring.extend(halloffame.items)\n",
    "        halloffame.update(offspring)\n",
    "        population[:] = offspring\n",
    "        \n",
    "        prev_avg = logbook.select(\"avg\")[-1]\n",
    "        \n",
    "        record = stats.compile(population) if stats else {}\n",
    "        logbook.record(gen=gen, nevals=len(invalid_ind), **record)\n",
    "        \n",
    "        if verbose:\n",
    "            print(logbook.stream)\n",
    "            \n",
    "        if record.get(\"min\") == 0 or round(record.get(\"avg\"), 2) >= round(prev_avg, 2) :\n",
    "            break\n",
    "\n",
    "    return population, logbook"
   ]
  }
 ],
 "metadata": {
  "kernelspec": {
   "display_name": "Python 3",
   "language": "python",
   "name": "python3"
  },
  "language_info": {
   "codemirror_mode": {
    "name": "ipython",
    "version": 3
   },
   "file_extension": ".py",
   "mimetype": "text/x-python",
   "name": "python",
   "nbconvert_exporter": "python",
   "pygments_lexer": "ipython3",
   "version": "3.8.5"
  }
 },
 "nbformat": 4,
 "nbformat_minor": 4
}
