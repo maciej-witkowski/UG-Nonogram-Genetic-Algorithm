{
 "cells": [
  {
   "cell_type": "code",
   "execution_count": 1,
   "metadata": {},
   "outputs": [],
   "source": [
    "from ipynb.fs.full.bf_algorithm import SimpleSolver"
   ]
  },
  {
   "cell_type": "code",
   "execution_count": 2,
   "metadata": {},
   "outputs": [],
   "source": [
    "class Puzzle:\n",
    "    verticals = [[]]\n",
    "    horizontals = [[]]\n",
    "    board = [[]]\n",
    "    solvers = []\n",
    "\n",
    "    spacer_offset_y = 0\n",
    "    spacer_distance_y = 5\n",
    "    spacer_offset_x = 0\n",
    "    spacer_distance_x = 5\n",
    "\n",
    "    def __init__(self, verticals, horizontals):\n",
    "        self.verticals = verticals\n",
    "        self.horizontals = horizontals\n",
    "        self.make_board(len(verticals), len(horizontals))\n",
    "        self.solvers = [SimpleSolver(self)]\n",
    "\n",
    "    def make_board(self, width, height):\n",
    "        self.board = [[None] * width for _ in range(height)]\n",
    "\n",
    "    def solve(self):\n",
    "        while self.solve_step():\n",
    "            continue\n",
    "\n",
    "    def solve_step(self):\n",
    "        for s in self.solvers:\n",
    "            if s.solve_step():\n",
    "                return True\n",
    "        return False\n",
    "\n",
    "    def print(self):\n",
    "        for row in self.board:\n",
    "            print(\"\".join([''.join(chr(9608)) if p else ''.join(\" \") for p in row]))\n",
    "\n"
   ]
  }
 ],
 "metadata": {
  "kernelspec": {
   "display_name": "Python 3",
   "language": "python",
   "name": "python3"
  },
  "language_info": {
   "codemirror_mode": {
    "name": "ipython",
    "version": 3
   },
   "file_extension": ".py",
   "mimetype": "text/x-python",
   "name": "python",
   "nbconvert_exporter": "python",
   "pygments_lexer": "ipython3",
   "version": "3.8.5"
  }
 },
 "nbformat": 4,
 "nbformat_minor": 4
}
