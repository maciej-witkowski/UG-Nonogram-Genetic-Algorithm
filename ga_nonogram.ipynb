{
 "cells": [
  {
   "cell_type": "code",
   "execution_count": 1,
   "metadata": {},
   "outputs": [],
   "source": [
    "import random\n",
    "import numpy as np"
   ]
  },
  {
   "cell_type": "code",
   "execution_count": 2,
   "metadata": {},
   "outputs": [],
   "source": [
    "def getInfo(nonogram):\n",
    "    return nonogram.get(\"rows\"), \\\n",
    "           nonogram.get(\"cols\"), \\\n",
    "           [clue for row in nonogram.get(\"rows\") for clue in row], \\\n",
    "           [clue for col in nonogram.get(\"cols\") for clue in col]"
   ]
  },
  {
   "cell_type": "code",
   "execution_count": 3,
   "metadata": {},
   "outputs": [],
   "source": [
    "def defineGenotype(cols):\n",
    "    genotype = []\n",
    "\n",
    "    for col in cols:\n",
    "        genotype.append({\n",
    "            \"col\": col,\n",
    "            \"genom\": [random.randrange(101) for _ in range(len(col))]\n",
    "        })\n",
    "\n",
    "    return genotype"
   ]
  },
  {
   "cell_type": "code",
   "execution_count": 4,
   "metadata": {},
   "outputs": [],
   "source": [
    "def decodeGenotype(rows, genotype):\n",
    "    decoded = []\n",
    "\n",
    "    for elem in genotype:\n",
    "        col = elem.get(\"col\")\n",
    "        genom = elem.get(\"genom\")\n",
    "\n",
    "        decoded_col = [[] for _ in range(len(rows))]\n",
    "\n",
    "        variables = {\n",
    "            \"start\": 0,\n",
    "            \"allowed\": None,\n",
    "            \"placed\": None\n",
    "        }\n",
    "\n",
    "        for idx, clue in enumerate(col):\n",
    "            variables[\"allowed\"] = 0\n",
    "\n",
    "            bk_right = (len(decoded_col) - 1) - (sum(col[idx + 1:]) + len(col[idx + 1:]))\n",
    "            bk_left = int(next((idx + 2 for idx, elem in reversed(list(enumerate(decoded_col))) if elem), '0'))\n",
    "\n",
    "            for index_place, place in enumerate(decoded_col[bk_left: bk_right + 1]):\n",
    "                if index_place + bk_left + clue <= bk_right + 1:\n",
    "                    variables[\"allowed\"] += 1\n",
    "\n",
    "            variables[\"placed\"] = variables.get(\"start\") + genom[idx] % variables.get(\"allowed\")\n",
    "\n",
    "            for index_place, place in enumerate(decoded_col[variables.get(\"placed\"): variables.get(\"placed\") + clue]):\n",
    "                place.append('x')\n",
    "\n",
    "            variables[\"start\"] = variables.get(\"placed\") + clue + 1\n",
    "\n",
    "        decoded.append(decoded_col)\n",
    "\n",
    "    return decoded"
   ]
  },
  {
   "cell_type": "code",
   "execution_count": 5,
   "metadata": {},
   "outputs": [],
   "source": [
    "def getSolution(cols, decoded_geno):\n",
    "    solution = [[] for _ in range(len(cols))]\n",
    "    \n",
    "    column = 0\n",
    "    \n",
    "    for col in decoded_geno:\n",
    "        count = 0\n",
    "        \n",
    "        for index, elem in enumerate(col):\n",
    "            if index == 0:\n",
    "                if not elem:\n",
    "                    count += 1\n",
    "                else:\n",
    "                    solution[column].append(count)\n",
    "                    count -= count\n",
    "            else:\n",
    "                if not elem:\n",
    "                    count += 1\n",
    "                elif count == 0:\n",
    "                    pass\n",
    "                elif next((True for elem in col[:index] if elem), False):\n",
    "                    solution[column].append(count - 1)\n",
    "                    count -= count\n",
    "                else:\n",
    "                    solution[column].append(count)\n",
    "                    count -= count\n",
    "                    \n",
    "        column += 1\n",
    "\n",
    "    return solution"
   ]
  },
  {
   "cell_type": "code",
   "execution_count": 6,
   "metadata": {},
   "outputs": [],
   "source": [
    "def getNonogramFromIndividual(rows, col_blocks, individual):\n",
    "    decoded_ind = []\n",
    "    i = 0\n",
    "\n",
    "    for col in individual:\n",
    "        decoded_col = [[] for _ in range(len(rows))]\n",
    "\n",
    "        for idx, block in enumerate(col):\n",
    "            if idx == 0:\n",
    "                for place in range(block, block + col_blocks[i]):\n",
    "                    decoded_col[place].append('x')\n",
    "            else:\n",
    "                last_place = next((idx + 2 for idx, elem in reversed(list(enumerate(decoded_col))) if elem))\n",
    "                for place in range(last_place + block, last_place + block + col_blocks[i]):\n",
    "                    decoded_col[place].append('x')\n",
    "            i += 1\n",
    "\n",
    "        decoded_ind.append(decoded_col)\n",
    "        \n",
    "    numpy_array = np.array(decoded_ind, dtype=object)\n",
    "    transpose = numpy_array.T\n",
    "\n",
    "    return transpose.tolist()"
   ]
  },
  {
   "cell_type": "code",
   "execution_count": 7,
   "metadata": {},
   "outputs": [],
   "source": [
    "def getRowsFromNonogram(nonogram):\n",
    "    to_strings = [''.join(map(lambda s: 'x' if s else ' ', row)) for row in nonogram]\n",
    "    return [list(map(len, s.split())) for s in to_strings]"
   ]
  }
 ],
 "metadata": {
  "kernelspec": {
   "display_name": "Python 3",
   "language": "python",
   "name": "python3"
  },
  "language_info": {
   "codemirror_mode": {
    "name": "ipython",
    "version": 3
   },
   "file_extension": ".py",
   "mimetype": "text/x-python",
   "name": "python",
   "nbconvert_exporter": "python",
   "pygments_lexer": "ipython3",
   "version": "3.8.5"
  }
 },
 "nbformat": 4,
 "nbformat_minor": 4
}
