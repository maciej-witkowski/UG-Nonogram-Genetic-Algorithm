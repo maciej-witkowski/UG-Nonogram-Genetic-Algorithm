{
 "cells": [
  {
   "cell_type": "code",
   "execution_count": 1,
   "metadata": {},
   "outputs": [],
   "source": [
    "import time\n",
    "\n",
    "from deap import base\n",
    "from deap import creator\n",
    "from deap import tools\n",
    "from deap import algorithms\n",
    "\n",
    "from ipynb.fs.full.ga_algorithm import *\n",
    "from ipynb.fs.full.ga_nonogram import getInfo\n",
    "\n",
    "from ipynb.fs.full.bf_nonogram import Puzzle"
   ]
  },
  {
   "cell_type": "code",
   "execution_count": 2,
   "metadata": {},
   "outputs": [],
   "source": [
    "nonogram_test_input = {\n",
    "    \"rows\": [[3], [2, 1], [3, 2], [2, 2], [6], [1, 5], [6], [1], [2]],\n",
    "    \"cols\": [[1, 2], [3, 1], [1, 5], [7, 1], [5], [3], [4], [3]],\n",
    "    \"n\": 800,\n",
    "    \"m_indpb\": 0.05\n",
    "}"
   ]
  },
  {
   "cell_type": "code",
   "execution_count": 3,
   "metadata": {},
   "outputs": [],
   "source": [
    "creator.create(\"FitnessMin\", base.Fitness, weights=(-1.0,))\n",
    "creator.create(\"Individual\", list, fitness=creator.FitnessMin)"
   ]
  },
  {
   "cell_type": "code",
   "execution_count": 4,
   "metadata": {},
   "outputs": [
    {
     "name": "stdout",
     "output_type": "stream",
     "text": [
      "gen\tnevals\tavg   \tmin\tmax\n",
      "0  \t800   \t8.3875\t5  \t9  \n",
      "1  \t483   \t7.88875\t3  \t9  \n",
      "2  \t457   \t7.4    \t3  \t9  \n",
      "3  \t488   \t6.94875\t3  \t9  \n",
      "4  \t456   \t6.65   \t3  \t9  \n",
      "5  \t473   \t6.24125\t3  \t9  \n",
      "6  \t471   \t5.825  \t2  \t9  \n",
      "7  \t502   \t5.31125\t2  \t9  \n",
      "8  \t452   \t4.60625\t0  \t9  \n",
      "\n",
      "Best individual is: [[1, 2], [0, 2], [0, 0], [0, 0], [4], [4], [2], [2]]\n",
      "\n",
      "Time:  0.656 sec\n",
      "\n",
      "Nonogram:\n",
      "\n",
      " ███    \n",
      "██ █    \n",
      " ███  ██\n",
      "  ██  ██\n",
      "  ██████\n",
      "█ █████ \n",
      "██████  \n",
      "    █   \n",
      "   ██   \n"
     ]
    }
   ],
   "source": [
    "start = time.time()\n",
    "\n",
    "toolbox = base.Toolbox()\n",
    "toolbox.register(\"population\", createIndividuals, nonogram_test_input, creator.Individual)\n",
    "\n",
    "toolbox.register(\"evaluate\", evalOneMax, nonogram=nonogram_test_input)\n",
    "toolbox.register(\"mate\", cxTwoPoints)\n",
    "toolbox.register(\"mutate\", mutShuffleIndexes, indpb=nonogram_test_input.get(\"m_indpb\"), nonogram=nonogram_test_input)\n",
    "toolbox.register(\"select\", tools.selTournament, tournsize=3)\n",
    "\n",
    "pop = toolbox.population(n=nonogram_test_input.get(\"n\"))\n",
    "hof = tools.HallOfFame(1)\n",
    "\n",
    "stats = tools.Statistics(lambda ind: ind.fitness.values)\n",
    "stats.register(\"avg\", np.mean)\n",
    "stats.register(\"min\", np.min)\n",
    "stats.register(\"max\", np.max)\n",
    "\n",
    "pop, log = eaSimpleWithElitism(pop, toolbox, cxpb=0.5, mutpb=0.2, ngen=100, stats=stats, halloffame=hof, verbose=True)\n",
    "\n",
    "end = time.time()\n",
    "\n",
    "rows, cols, row_blocks, col_blocks = getInfo(nonogram_test_input)\n",
    "\n",
    "print(\"\\nBest individual is: %s\" % hof[0])\n",
    "result = getNonogramFromIndividual(rows, col_blocks, hof[0])\n",
    "\n",
    "print(\"\\nTime: \", round(end - start, 3), \"sec\")\n",
    "\n",
    "print(\"\\nNonogram:\\n\")\n",
    "\n",
    "for row in result:\n",
    "    print(''.join(map(lambda s: chr(9608) if s else ' ', row)))"
   ]
  },
  {
   "cell_type": "code",
   "execution_count": 5,
   "metadata": {},
   "outputs": [
    {
     "name": "stdout",
     "output_type": "stream",
     "text": [
      "no next solution step\n",
      "\n",
      "Time:  0.001 sec\n",
      "\n",
      "Nonogram:\n",
      "\n",
      " ███    \n",
      "██ █    \n",
      " ███  ██\n",
      "  ██  ██\n",
      "  ██████\n",
      "█ █████ \n",
      "██████  \n",
      "    █   \n",
      "   ██   \n"
     ]
    }
   ],
   "source": [
    "start = time.time()\n",
    "\n",
    "puzzle = Puzzle(cols, rows)\n",
    "\n",
    "while True:\n",
    "    if not puzzle.solve_step():\n",
    "        end = time.time()\n",
    "        print(\"no next solution step\")\n",
    "        print(\"\\nTime: \", round(end - start, 3), \"sec\")\n",
    "        print(\"\\nNonogram:\\n\")\n",
    "        puzzle.print()\n",
    "        break\n",
    "        "
   ]
  }
 ],
 "metadata": {
  "kernelspec": {
   "display_name": "Python 3",
   "language": "python",
   "name": "python3"
  },
  "language_info": {
   "codemirror_mode": {
    "name": "ipython",
    "version": 3
   },
   "file_extension": ".py",
   "mimetype": "text/x-python",
   "name": "python",
   "nbconvert_exporter": "python",
   "pygments_lexer": "ipython3",
   "version": "3.8.5"
  }
 },
 "nbformat": 4,
 "nbformat_minor": 4
}
